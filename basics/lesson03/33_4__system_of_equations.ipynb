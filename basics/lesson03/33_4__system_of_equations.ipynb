{
 "cells": [
  {
   "cell_type": "markdown",
   "id": "d4fa56ef",
   "metadata": {},
   "source": [
    "## I.\n",
    "$$\\left\\{\n",
    "    \\begin{array}\\\\\n",
    "       y=x^2-1 \\\\\n",
    "       exp(x)+x*(1-y)-1 = 0 \\\\\n",
    "    \\end{array}\n",
    "\\right.$$"
   ]
  },
  {
   "cell_type": "code",
   "execution_count": 7,
   "id": "f7c65f25",
   "metadata": {},
   "outputs": [],
   "source": [
    "%matplotlib inline\n",
    "import numpy as np\n",
    "import matplotlib.pyplot as plt"
   ]
  },
  {
   "cell_type": "code",
   "execution_count": 4,
   "id": "3b154c67",
   "metadata": {},
   "outputs": [],
   "source": [
    "#np.exp(x) + x * (1 - y) - 1 > 0"
   ]
  },
  {
   "cell_type": "code",
   "execution_count": 48,
   "id": "7aaa2840",
   "metadata": {},
   "outputs": [
    {
     "name": "stderr",
     "output_type": "stream",
     "text": [
      "C:\\Users\\grayni\\AppData\\Local\\Temp/ipykernel_12300/1876638500.py:2: RuntimeWarning: invalid value encountered in true_divide\n",
      "  plt.plot(x, 1 - (1 - np.exp(x))/x, color='pink')\n"
     ]
    },
    {
     "data": {
      "image/png": "[encoded data removed]",
      "text/plain": [
       "<Figure size 432x288 with 1 Axes>"
      ]
     },
     "metadata": {
      "needs_background": "light"
     },
     "output_type": "display_data"
    }
   ],
   "source": [
    "x = np.linspace(-10, 10, 201)\n",
    "plt.plot(x, 1 - (1 - np.exp(x))/x, color='pink')\n",
    "plt.plot(x, x**2 - 1)\n",
    "plt.xlabel('x')\n",
    "plt.ylabel('y')\n",
    "plt.ylim(-2, 20)\n",
    "plt.xlim(-7, 7)\n",
    "plt.grid(color='#eeefff')"
   ]
  },
  {
   "cell_type": "code",
   "execution_count": 29,
   "id": "52223bb7",
   "metadata": {},
   "outputs": [],
   "source": [
    "from scipy.optimize import fsolve\n",
    "# y < 1 - (1 - exp(x))/x\n",
    "\n",
    "def equations(p):\n",
    "    x, y = p\n",
    "    return (x**2 - 1 - y, np.exp(x) + x*(1 - y) - 1) "
   ]
  },
  {
   "cell_type": "code",
   "execution_count": 42,
   "id": "1c14c9f3",
   "metadata": {},
   "outputs": [
    {
     "name": "stdout",
     "output_type": "stream",
     "text": [
      "4.200105841149689 16.640889076862805\n"
     ]
    }
   ],
   "source": [
    "x1, y1 = fsolve(equations, (4, 15))\n",
    "print(x1, y1)"
   ]
  },
  {
   "cell_type": "markdown",
   "id": "d65656c3",
   "metadata": {},
   "source": [
    "<br>\n",
    "\n",
    "## II.\n",
    "$$\\left\\{\n",
    "    \\begin{array}\\\\\n",
    "       y=x^2-1 \\\\\n",
    "       exp(x)+x*(1-y)-1 > 0 \\\\\n",
    "    \\end{array}\n",
    "\\right.$$"
   ]
  },
  {
   "cell_type": "code",
   "execution_count": 46,
   "id": "808a71ec",
   "metadata": {},
   "outputs": [
    {
     "name": "stdout",
     "output_type": "stream",
     "text": [
      "6.5134166988044236e-15 -1.000000000000011\n"
     ]
    }
   ],
   "source": [
    "from itertools import count\n",
    "\n",
    "def find_x():\n",
    "    for x in count():\n",
    "        y = x**2 - 1\n",
    "        if np.exp(x) + x * (1 - y) - 1 > 0:\n",
    "            return (x, y)\n",
    "\n",
    "x1, y1 = fsolve(equations, find_x())\n",
    "print(x1, y1)\n",
    "        "
   ]
  }
 ],
 "metadata": {
  "kernelspec": {
   "display_name": "Python 3 (ipykernel)",
   "language": "python",
   "name": "python3"
  },
  "language_info": {
   "codemirror_mode": {
    "name": "ipython",
    "version": 3
   },
   "file_extension": ".py",
   "mimetype": "text/x-python",
   "name": "python",
   "nbconvert_exporter": "python",
   "pygments_lexer": "ipython3",
   "version": "3.9.7"
  }
 },
 "nbformat": 4,
 "nbformat_minor": 5
}
