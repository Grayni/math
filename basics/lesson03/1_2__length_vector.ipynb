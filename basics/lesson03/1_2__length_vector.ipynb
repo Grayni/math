{
 "cells": [
  {
   "cell_type": "markdown",
   "id": "a125eaca",
   "metadata": {},
   "source": [
    "$$\\mathbf{Длина\\ вектора: } \\ \\ \\ \\vec{a} = \\sqrt{a_x^2+a_y^2+a_z^2}$$"
   ]
  },
  {
   "cell_type": "code",
   "execution_count": null,
   "id": "c34c55bd",
   "metadata": {},
   "outputs": [],
   "source": [
    "def length_vector(x=0, y=0, z=0):\n",
    "    return (x**2 + y**2 + z**2)**0.5"
   ]
  },
  {
   "cell_type": "code",
   "execution_count": 12,
   "id": "a7c669c4",
   "metadata": {},
   "outputs": [
    {
     "data": {
      "text/plain": [
       "13.0"
      ]
     },
     "execution_count": 12,
     "metadata": {},
     "output_type": "execute_result"
    }
   ],
   "source": [
    "a = [3, 4, 12]\n",
    "\n",
    "len_a = length_vector(*a)\n",
    "len_a"
   ]
  },
  {
   "cell_type": "code",
   "execution_count": 11,
   "id": "1c8b830c",
   "metadata": {},
   "outputs": [
    {
     "data": {
      "text/plain": [
       "5.0"
      ]
     },
     "execution_count": 11,
     "metadata": {},
     "output_type": "execute_result"
    }
   ],
   "source": [
    "b = [3, 4]\n",
    "\n",
    "len_b = length_vector(*b)\n",
    "len_b"
   ]
  }
 ],
 "metadata": {
  "kernelspec": {
   "display_name": "Python 3 (ipykernel)",
   "language": "python",
   "name": "python3"
  },
  "language_info": {
   "codemirror_mode": {
    "name": "ipython",
    "version": 3
   },
   "file_extension": ".py",
   "mimetype": "text/x-python",
   "name": "python",
   "nbconvert_exporter": "python",
   "pygments_lexer": "ipython3",
   "version": "3.9.7"
  }
 },
 "nbformat": 4,
 "nbformat_minor": 5
}
