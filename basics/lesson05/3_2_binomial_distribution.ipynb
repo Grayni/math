{
 "cells": [
  {
   "cell_type": "markdown",
   "id": "ee0ac3ab",
   "metadata": {},
   "source": [
    "### Формула Бернулли\n",
    "\n",
    "$$P_n(k) = C^k_n{p^kq^{n-k}}, \\ C_n^k=\\frac{n!}{k!(n-k)!}$$"
   ]
  },
  {
   "cell_type": "markdown",
   "id": "f02b490d",
   "metadata": {},
   "source": [
    "### Биномиальное распределение 2\n",
    "\n",
    "Какова вероятность, того что 3 раза будет успех при 6-и независимых испытаниях (n=5000, k=3)"
   ]
  },
  {
   "cell_type": "code",
   "execution_count": 2,
   "id": "b4a1d155",
   "metadata": {},
   "outputs": [],
   "source": [
    "import numpy as np\n",
    "import itertools"
   ]
  },
  {
   "cell_type": "code",
   "execution_count": 13,
   "id": "2580be69",
   "metadata": {},
   "outputs": [],
   "source": [
    "n = 5000\n",
    "a = np.random.randint(0, 2, n)\n",
    "b = np.random.randint(0, 2, n)\n",
    "c = np.random.randint(0, 2, n)\n",
    "d = np.random.randint(0, 2, n)\n",
    "e = np.random.randint(0, 2, n)\n",
    "f = np.random.randint(0, 2, n)"
   ]
  },
  {
   "cell_type": "code",
   "execution_count": 14,
   "id": "f7ac7d2e",
   "metadata": {},
   "outputs": [
    {
     "name": "stdout",
     "output_type": "stream",
     "text": [
      "[4 2 5 ... 3 2 1]\n"
     ]
    }
   ],
   "source": [
    "x = a + b + c + d + e + f\n",
    "print(x)"
   ]
  },
  {
   "cell_type": "code",
   "execution_count": 15,
   "id": "b65891a5",
   "metadata": {},
   "outputs": [
    {
     "name": "stdout",
     "output_type": "stream",
     "text": [
      "1568 5000 0.3136\n"
     ]
    }
   ],
   "source": [
    "k = 0\n",
    "for i in range(0, n):\n",
    "    if x[i] == 3:\n",
    "        k += 1\n",
    "        \n",
    "print(k, n, k/n)"
   ]
  },
  {
   "cell_type": "code",
   "execution_count": 5,
   "id": "6ed15e67",
   "metadata": {},
   "outputs": [
    {
     "name": "stdout",
     "output_type": "stream",
     "text": [
      "0.375\n"
     ]
    }
   ],
   "source": [
    "def bernully(n, k):\n",
    "    C = np.math.factorial(n) / (np.math.factorial(k) * np.math.factorial(n-k))\n",
    "    return C / 2**n\n",
    "\n",
    "print(bernully(4, 2))"
   ]
  },
  {
   "cell_type": "code",
   "execution_count": null,
   "id": "2f3f2e62",
   "metadata": {},
   "outputs": [],
   "source": []
  }
 ],
 "metadata": {
  "kernelspec": {
   "display_name": "Python 3 (ipykernel)",
   "language": "python",
   "name": "python3"
  },
  "language_info": {
   "codemirror_mode": {
    "name": "ipython",
    "version": 3
   },
   "file_extension": ".py",
   "mimetype": "text/x-python",
   "name": "python",
   "nbconvert_exporter": "python",
   "pygments_lexer": "ipython3",
   "version": "3.9.7"
  }
 },
 "nbformat": 4,
 "nbformat_minor": 5
}
