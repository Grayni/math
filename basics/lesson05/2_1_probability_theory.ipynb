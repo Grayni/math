{
 "cells": [
  {
   "cell_type": "code",
   "execution_count": null,
   "id": "4e4b83b9",
   "metadata": {},
   "outputs": [],
   "source": [
    "# Теорема теории вероятности сложения независимых событий P(A+B) = P(A) + P(B); P(A) + P(B) + ... = 1"
   ]
  },
  {
   "cell_type": "code",
   "execution_count": 9,
   "id": "5bf53ffe",
   "metadata": {},
   "outputs": [],
   "source": [
    "from collections import Counter\n",
    "import numpy as np"
   ]
  },
  {
   "cell_type": "code",
   "execution_count": 20,
   "id": "34acf1e2",
   "metadata": {},
   "outputs": [
    {
     "name": "stdout",
     "output_type": "stream",
     "text": [
      "Red or Black: 0.972972972972973\n",
      "Zero: 0.02702702702702703\n",
      "All: 1.0\n"
     ]
    }
   ],
   "source": [
    "# Theory\n",
    "\n",
    "all = 37\n",
    "red_cells = 18\n",
    "black_cells = 18\n",
    "zero = 1\n",
    "print(f'Red or Black: {red_cells/all + black_cells/all}')  # P(A+B) = P(A) + P(B)\n",
    "print(f'Zero: {zero/all}')  # P(A)\n",
    "print(f'All: {red_cells/all + black_cells/all + zero/all}')  # P(A) + P(B) + P(C) = 1"
   ]
  },
  {
   "cell_type": "code",
   "execution_count": 25,
   "id": "d3c82304",
   "metadata": {},
   "outputs": [
    {
     "name": "stdout",
     "output_type": "stream",
     "text": [
      "444\n",
      "528\n",
      "(red or black) P(A + B): 0.972\n",
      "(zero) P(A): 0.028\n",
      "(all cells) P(A + B + C): 1.0\n"
     ]
    }
   ],
   "source": [
    "# Practice\n",
    "\n",
    "cells = []\n",
    "for i in range(1000):\n",
    "    num = np.random.uniform(37)\n",
    "    if num < 18:\n",
    "        cells.append('red')\n",
    "    elif num < 36:\n",
    "        cells.append('black')\n",
    "    else:\n",
    "        cells.append('zero')\n",
    "        \n",
    "red_cells = Counter(cells)['red']\n",
    "black_cells = Counter(cells)['black']\n",
    "zero_cells = Counter(cells)['zero']\n",
    "\n",
    "print(red_cells)\n",
    "print(black_cells)\n",
    "print(f'(red or black) P(A + B): {red_cells/1000 + black_cells/1000}')\n",
    "print(f'(zero) P(A): {zero_cells/1000}')\n",
    "print(f'(all cells) P(A + B + C): {red_cells/1000 + black_cells/1000 + zero_cells/1000}')"
   ]
  },
  {
   "cell_type": "code",
   "execution_count": null,
   "id": "50c60b69",
   "metadata": {},
   "outputs": [],
   "source": []
  }
 ],
 "metadata": {
  "kernelspec": {
   "display_name": "Python 3 (ipykernel)",
   "language": "python",
   "name": "python3"
  },
  "language_info": {
   "codemirror_mode": {
    "name": "ipython",
    "version": 3
   },
   "file_extension": ".py",
   "mimetype": "text/x-python",
   "name": "python",
   "nbconvert_exporter": "python",
   "pygments_lexer": "ipython3",
   "version": "3.9.7"
  }
 },
 "nbformat": 4,
 "nbformat_minor": 5
}
