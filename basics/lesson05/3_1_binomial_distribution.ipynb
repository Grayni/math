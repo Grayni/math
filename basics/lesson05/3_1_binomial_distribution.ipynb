{
 "cells": [
  {
   "cell_type": "markdown",
   "id": "f35b7a95",
   "metadata": {},
   "source": [
    "### Формула Бернулли\n",
    "\n",
    "$$P_n(k) = C^k_n{p^kq^{n-k}}, \\ C_n^k=\\frac{n!}{k!(n-k)!}$$"
   ]
  },
  {
   "cell_type": "markdown",
   "id": "f02b490d",
   "metadata": {},
   "source": [
    "### Биномиальное распределение\n",
    "\n",
    "Какова вероятность, того что два раза будет успех и 2 раза неудача при 4-х независимых испытаниях"
   ]
  },
  {
   "cell_type": "code",
   "execution_count": 2,
   "id": "b4a1d155",
   "metadata": {},
   "outputs": [],
   "source": [
    "import numpy as np\n",
    "import itertools"
   ]
  },
  {
   "cell_type": "code",
   "execution_count": 32,
   "id": "2580be69",
   "metadata": {},
   "outputs": [],
   "source": [
    "n = 10000\n",
    "a = np.random.randint(0, 2, n)\n",
    "b = np.random.randint(0, 2, n)\n",
    "c = np.random.randint(0, 2, n)\n",
    "d = np.random.randint(0, 2, n)"
   ]
  },
  {
   "cell_type": "code",
   "execution_count": 35,
   "id": "f7ac7d2e",
   "metadata": {},
   "outputs": [
    {
     "name": "stdout",
     "output_type": "stream",
     "text": [
      "[2 4 2 ... 1 3 3]\n"
     ]
    }
   ],
   "source": [
    "x = a + b + c + d\n",
    "print(x)"
   ]
  },
  {
   "cell_type": "code",
   "execution_count": 36,
   "id": "b65891a5",
   "metadata": {},
   "outputs": [
    {
     "name": "stdout",
     "output_type": "stream",
     "text": [
      "3785 10000 0.3785\n"
     ]
    }
   ],
   "source": [
    "k = 0\n",
    "for i in range(0, n):\n",
    "    if x[i] == 2:\n",
    "        k += 1\n",
    "        \n",
    "print(k, n, k/n)"
   ]
  },
  {
   "cell_type": "code",
   "execution_count": 5,
   "id": "6ed15e67",
   "metadata": {},
   "outputs": [
    {
     "name": "stdout",
     "output_type": "stream",
     "text": [
      "0.375\n"
     ]
    }
   ],
   "source": [
    "def bernoulli_coin(n, k):\n",
    "    C = np.math.factorial(n) / (np.math.factorial(k) * np.math.factorial(n-k))\n",
    "    return C / 2**n\n",
    "\n",
    "print(bernully(4, 2))"
   ]
  },
  {
   "cell_type": "code",
   "execution_count": null,
   "id": "5b9809a5",
   "metadata": {},
   "outputs": [],
   "source": []
  }
 ],
 "metadata": {
  "kernelspec": {
   "display_name": "Python 3 (ipykernel)",
   "language": "python",
   "name": "python3"
  },
  "language_info": {
   "codemirror_mode": {
    "name": "ipython",
    "version": 3
   },
   "file_extension": ".py",
   "mimetype": "text/x-python",
   "name": "python",
   "nbconvert_exporter": "python",
   "pygments_lexer": "ipython3",
   "version": "3.9.7"
  }
 },
 "nbformat": 4,
 "nbformat_minor": 5
}