{
 "cells": [
  {
   "cell_type": "markdown",
   "id": "12865bbc",
   "metadata": {},
   "source": [
    "# Биномиальное распределение\n",
    "\n",
    "$mathbt{Какова вероятность, того что два раза будет успех и 2 раза неудача при 4-х независимых испытаниях}$"
   ]
  },
  {
   "cell_type": "code",
   "execution_count": 1,
   "id": "05a0a3f7",
   "metadata": {},
   "outputs": [],
   "source": [
    "import numpy as np\n",
    "import itertools"
   ]
  },
  {
   "cell_type": "code",
   "execution_count": 32,
   "id": "8e7e5165",
   "metadata": {},
   "outputs": [],
   "source": [
    "n = 10000\n",
    "a = np.random.randint(0, 2, n)\n",
    "b = np.random.randint(0, 2, n)\n",
    "c = np.random.randint(0, 2, n)\n",
    "d = np.random.randint(0, 2, n)"
   ]
  },
  {
   "cell_type": "code",
   "execution_count": 35,
   "id": "acf685ac",
   "metadata": {},
   "outputs": [
    {
     "name": "stdout",
     "output_type": "stream",
     "text": [
      "[2 4 2 ... 1 3 3]\n"
     ]
    }
   ],
   "source": [
    "x = a + b + c + d\n",
    "print(x)"
   ]
  },
  {
   "cell_type": "code",
   "execution_count": 36,
   "id": "8a43d240",
   "metadata": {},
   "outputs": [
    {
     "name": "stdout",
     "output_type": "stream",
     "text": [
      "3785 10000 0.3785\n"
     ]
    }
   ],
   "source": [
    "k = 0\n",
    "for i in range(0, n):\n",
    "    if x[i] == 2:\n",
    "        k += 1\n",
    "        \n",
    "print(k, n, k/n)"
   ]
  },
  {
   "cell_type": "code",
   "execution_count": 43,
   "id": "25617521",
   "metadata": {},
   "outputs": [
    {
     "name": "stdout",
     "output_type": "stream",
     "text": [
      "0.375\n"
     ]
    }
   ],
   "source": [
    "C = np.math.factorial(4) / (np.math.factorial(2) * np.math.factorial(4-2))\n",
    "result = C / 2**4\n",
    "print(result)"
   ]
  }
 ],
 "metadata": {
  "kernelspec": {
   "display_name": "Python 3 (ipykernel)",
   "language": "python",
   "name": "python3"
  },
  "language_info": {
   "codemirror_mode": {
    "name": "ipython",
    "version": 3
   },
   "file_extension": ".py",
   "mimetype": "text/x-python",
   "name": "python",
   "nbconvert_exporter": "python",
   "pygments_lexer": "ipython3",
   "version": "3.9.7"
  }
 },
 "nbformat": 4,
 "nbformat_minor": 5
}
