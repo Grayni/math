{
 "cells": [
  {
   "cell_type": "code",
   "execution_count": 72,
   "id": "2bd1ed82",
   "metadata": {},
   "outputs": [],
   "source": [
    "# Нормальное распределение\n",
    "\n",
    "%matplotlib inline\n",
    "import numpy as np\n",
    "\n",
    "import matplotlib.pyplot as plt\n",
    "import matplotlib.mlab as mlab"
   ]
  },
  {
   "cell_type": "code",
   "execution_count": 86,
   "id": "66c88a1c",
   "metadata": {},
   "outputs": [
    {
     "name": "stdout",
     "output_type": "stream",
     "text": [
      "[9, 4, 9, 8, 3, 2, 5, 6, 0, 6]\n",
      "[0, 6, 10, 1, 9, 6, 3, 3, 8, 1]\n",
      "[0, 1, 2, 7, 9, 2, 8, 6, 3, 9]\n",
      "[3, 1, 5, 9, 8, 4, 2, 3, 8, 7]\n",
      "[8, 3, 5, 1, 8, 1, 8, 5, 5, 8]\n",
      "[4, 0, 8, 1, 5, 4, 4, 5, 6, 8]\n",
      "[1, 4, 0, 2, 9, 3, 0, 5, 5, 9]\n",
      "[4, 3, 2, 5, 4, 8, 6, 1, 7, 7]\n",
      "[2, 4, 1, 7, 4, 5, 3, 8, 3, 8]\n",
      "[6, 1, 10, 1, 3, 0, 6, 2, 7, 1]\n"
     ]
    }
   ],
   "source": [
    "values = []\n",
    "for i in range(10):\n",
    "    x = list(map(lambda v: round(10*v), np.random.rand(10)))  # values [0, 10]\n",
    "    print(x)\n",
    "    values.append(sum(x))\n",
    "    "
   ]
  },
  {
   "cell_type": "code",
   "execution_count": 87,
   "id": "b7945f81",
   "metadata": {},
   "outputs": [
    {
     "name": "stdout",
     "output_type": "stream",
     "text": [
      "[52, 47, 47, 50, 52, 45, 38, 47, 45, 37]\n"
     ]
    },
    {
     "data": {
      "text/plain": [
       "Text(0.5, 1.0, 'histrogram')"
      ]
     },
     "execution_count": 87,
     "metadata": {},
     "output_type": "execute_result"
    },
    {
     "data": {
      "image/png": "[encoded data removed]",
      "text/plain": [
       "<Figure size 432x288 with 1 Axes>"
      ]
     },
     "metadata": {
      "needs_background": "light"
     },
     "output_type": "display_data"
    }
   ],
   "source": [
    "num_bins = 10\n",
    "print(values)\n",
    "n, bins, patches = plt.hist(values, num_bins)\n",
    "plt.xlabel('x')\n",
    "plt.ylabel('y')\n",
    "plt.title('histrogram')"
   ]
  },
  {
   "cell_type": "code",
   "execution_count": 83,
   "id": "fd4d9ab1",
   "metadata": {},
   "outputs": [
    {
     "data": {
      "text/plain": [
       "Text(0.5, 1.0, 'histrogram')"
      ]
     },
     "execution_count": 83,
     "metadata": {},
     "output_type": "execute_result"
    },
    {
     "data": {
      "image/png": "[encoded data removed]",
      "text/plain": [
       "<Figure size 432x288 with 1 Axes>"
      ]
     },
     "metadata": {
      "needs_background": "light"
     },
     "output_type": "display_data"
    }
   ],
   "source": [
    "# if range(100000)\n",
    "for i in range(10000):\n",
    "    x = list(map(lambda v: round(10*v), np.random.rand(10)))  # values [0, 10]\n",
    "    values.append(sum(x))\n",
    "\n",
    "num_bins = 10\n",
    "n, bins, patches = plt.hist(values, num_bins)\n",
    "plt.xlabel('x')\n",
    "plt.ylabel('y')\n",
    "plt.title('histrogram')"
   ]
  }
 ],
 "metadata": {
  "kernelspec": {
   "display_name": "Python 3 (ipykernel)",
   "language": "python",
   "name": "python3"
  },
  "language_info": {
   "codemirror_mode": {
    "name": "ipython",
    "version": 3
   },
   "file_extension": ".py",
   "mimetype": "text/x-python",
   "name": "python",
   "nbconvert_exporter": "python",
   "pygments_lexer": "ipython3",
   "version": "3.9.7"
  }
 },
 "nbformat": 4,
 "nbformat_minor": 5
}
