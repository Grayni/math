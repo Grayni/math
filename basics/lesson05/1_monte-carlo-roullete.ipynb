{
 "cells": [
  {
   "cell_type": "code",
   "execution_count": 1,
   "id": "ee1b660f",
   "metadata": {},
   "outputs": [],
   "source": [
    "%matplotlib inline\n",
    "import numpy as np\n",
    "from collections import Counter"
   ]
  },
  {
   "cell_type": "code",
   "execution_count": 4,
   "id": "a0bba2b3",
   "metadata": {},
   "outputs": [
    {
     "name": "stdout",
     "output_type": "stream",
     "text": [
      "RED: 4801\n",
      "BLACK: 4919\n",
      "ZERO: 280\n"
     ]
    }
   ],
   "source": [
    "results = []\n",
    "for i in range(0, 10000):\n",
    "    x = np.random.uniform(0, 37)  # [0, 37)\n",
    "\n",
    "    if x < 18:\n",
    "        results.append('RED')\n",
    "    elif x < 36:\n",
    "        results.append('BLACK')\n",
    "    else:\n",
    "        results.append('ZERO')\n",
    "\n",
    "value = Counter(results)\n",
    "print(f\"RED: {value['RED']}\")\n",
    "print(f\"BLACK: {value['BLACK']}\")\n",
    "print(f\"ZERO: {value['ZERO']}\")"
   ]
  }
 ],
 "metadata": {
  "kernelspec": {
   "display_name": "Python 3 (ipykernel)",
   "language": "python",
   "name": "python3"
  },
  "language_info": {
   "codemirror_mode": {
    "name": "ipython",
    "version": 3
   },
   "file_extension": ".py",
   "mimetype": "text/x-python",
   "name": "python",
   "nbconvert_exporter": "python",
   "pygments_lexer": "ipython3",
   "version": "3.9.7"
  }
 },
 "nbformat": 4,
 "nbformat_minor": 5
}
