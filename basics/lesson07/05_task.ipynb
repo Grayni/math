{
 "cells": [
  {
   "cell_type": "code",
   "execution_count": 2,
   "id": "534f5fb1",
   "metadata": {},
   "outputs": [],
   "source": [
    "import numpy as np\n",
    "\n",
    "v1 = np.array([1, 5, 0], dtype=float)\n",
    "v2 = np.array([2, 8, 7], dtype=float)\n",
    "v3 = np.array([7, 1.5, 3], dtype=float)\n",
    "\n",
    "v = np.cross(v1, v2)\n",
    "w = np.inner(v, v3)"
   ]
  },
  {
   "cell_type": "code",
   "execution_count": 3,
   "id": "d1f9fb60",
   "metadata": {},
   "outputs": [
    {
     "data": {
      "text/plain": [
       "228.5"
      ]
     },
     "execution_count": 3,
     "metadata": {},
     "output_type": "execute_result"
    }
   ],
   "source": [
    "w"
   ]
  },
  {
   "cell_type": "code",
   "execution_count": null,
   "id": "259649d8",
   "metadata": {},
   "outputs": [],
   "source": []
  }
 ],
 "metadata": {
  "kernelspec": {
   "display_name": "Python 3 (ipykernel)",
   "language": "python",
   "name": "python3"
  },
  "language_info": {
   "codemirror_mode": {
    "name": "ipython",
    "version": 3
   },
   "file_extension": ".py",
   "mimetype": "text/x-python",
   "name": "python",
   "nbconvert_exporter": "python",
   "pygments_lexer": "ipython3",
   "version": "3.9.7"
  }
 },
 "nbformat": 4,
 "nbformat_minor": 5
}
