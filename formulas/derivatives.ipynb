{
 "cells": [
  {
   "cell_type": "markdown",
   "id": "2a43088e",
   "metadata": {},
   "source": [
    "$\\mathbf{\\large Derivative\\ definition}$"
   ]
  },
  {
   "cell_type": "markdown",
   "id": "5ce7406d",
   "metadata": {},
   "source": [
    "$$f'(x_0) = \\lim_{\\Delta x \\rightarrow 0}\\frac{f(x_0 + \\Delta x) - f(x_0)}{\\Delta x}$$"
   ]
  },
  {
   "cell_type": "markdown",
   "id": "ca090f01",
   "metadata": {},
   "source": [
    "<br>\n",
    "${\\large №\\  1.\\ f(x) = x^2,\\ f'(3) =\\ ? }$"
   ]
  },
  {
   "cell_type": "markdown",
   "id": "4507982c",
   "metadata": {},
   "source": [
    "$\\mathsf{\\normalsize Calculation:}$"
   ]
  },
  {
   "cell_type": "code",
   "execution_count": 14,
   "id": "5e58aa40",
   "metadata": {},
   "outputs": [
    {
     "name": "stdout",
     "output_type": "stream",
     "text": [
      "7.0\n",
      "6.100000000000012\n",
      "6.000999999999479\n",
      "6.000100000012054\n",
      "6.000009999951316\n"
     ]
    }
   ],
   "source": [
    "\n",
    "def f(x):\n",
    "    return x**2\n",
    "\n",
    "x0 = 3\n",
    "dx_list = [1, 0.1, 0.001, 0.0001, 0.00001]\n",
    "\n",
    "for dx in dx_list:\n",
    "    print((f(x0+dx)-f(x0))/dx)  # f'(3) → 6"
   ]
  },
  {
   "cell_type": "markdown",
   "id": "2678f541",
   "metadata": {},
   "source": [
    "$\\mathsf{\\normalsize Graph:}$"
   ]
  },
  {
   "cell_type": "code",
   "execution_count": 33,
   "id": "adcb3fc3",
   "metadata": {},
   "outputs": [
    {
     "data": {
      "text/plain": [
       "6.000009999951316"
      ]
     },
     "execution_count": 33,
     "metadata": {},
     "output_type": "execute_result"
    }
   ],
   "source": [
    "def g(x):\n",
    "    return a * x + b\n",
    "\n",
    "dx = 0.00001\n",
    "\n",
    "a = (f(x0 + dx) - f(x0)) / dx\n",
    "a"
   ]
  },
  {
   "cell_type": "code",
   "execution_count": 32,
   "id": "4b8ddd40",
   "metadata": {},
   "outputs": [
    {
     "data": {
      "text/plain": [
       "-9.000029999853947"
      ]
     },
     "execution_count": 32,
     "metadata": {},
     "output_type": "execute_result"
    }
   ],
   "source": [
    "b = f(x0) - a * x0\n",
    "b"
   ]
  },
  {
   "cell_type": "code",
   "execution_count": 40,
   "id": "1231a70f",
   "metadata": {},
   "outputs": [
    {
     "data": {
      "text/plain": [
       "[<matplotlib.lines.Line2D at 0x28e2c5909a0>]"
      ]
     },
     "execution_count": 40,
     "metadata": {},
     "output_type": "execute_result"
    },
    {
     "data": {
      "image/png": "[encoded data removed]",
      "text/plain": [
       "<Figure size 432x288 with 1 Axes>"
      ]
     },
     "metadata": {
      "needs_background": "light"
     },
     "output_type": "display_data"
    }
   ],
   "source": [
    "import numpy as np\n",
    "import matplotlib.pyplot as plt\n",
    "%matplotlib inline\n",
    "\n",
    "x = np.arange(0, 6, 0.1)\n",
    "\n",
    "plt.plot(x, f(x))\n",
    "plt.plot(x, g(x))\n"
   ]
  },
  {
   "cell_type": "markdown",
   "id": "96a7bb9e",
   "metadata": {},
   "source": [
    "<br>\n",
    "${\\large №\\  2.\\ f(x) = e^x,\\ f'(e^x) =\\ e^x }$"
   ]
  },
  {
   "cell_type": "code",
   "execution_count": 72,
   "id": "5f4867e3",
   "metadata": {},
   "outputs": [
    {
     "name": "stdout",
     "output_type": "stream",
     "text": [
      "e^3: 20.085536923187668 \n",
      "\n",
      "f'(e^3):  34.51261310995657\n",
      "f'(e^3):  20.186300205325836\n",
      "f'(e^3):  20.08554696786291\n"
     ]
    }
   ],
   "source": [
    "import numpy as np\n",
    "def e(x):\n",
    "    return np.exp(x)\n",
    "\n",
    "x0 = 3\n",
    "dx_list = [1, 0.01, 0.000001]\n",
    "\n",
    "print('e^3:', e(3), '\\n')\n",
    "\n",
    "for dx in dx_list:\n",
    "    print(\"f'(e^3): \", (e(x0+dx) - e(x0)) / dx)  # e'(e^3) → e^3\n"
   ]
  },
  {
   "cell_type": "code",
   "execution_count": 73,
   "id": "af891a1e",
   "metadata": {},
   "outputs": [
    {
     "data": {
      "text/plain": [
       "20.08554696786291"
      ]
     },
     "execution_count": 73,
     "metadata": {},
     "output_type": "execute_result"
    }
   ],
   "source": [
    "a = (e(x0 + dx) - e(x0)) / dx\n",
    "a"
   ]
  },
  {
   "cell_type": "code",
   "execution_count": 74,
   "id": "63718cde",
   "metadata": {},
   "outputs": [
    {
     "data": {
      "text/plain": [
       "-40.171103980401064"
      ]
     },
     "execution_count": 74,
     "metadata": {},
     "output_type": "execute_result"
    }
   ],
   "source": [
    "b = e(x0) - a * x0\n",
    "b"
   ]
  },
  {
   "cell_type": "code",
   "execution_count": 76,
   "id": "45442aa8",
   "metadata": {},
   "outputs": [
    {
     "data": {
      "text/plain": [
       "[<matplotlib.lines.Line2D at 0x28e2dbae700>]"
      ]
     },
     "execution_count": 76,
     "metadata": {},
     "output_type": "execute_result"
    },
    {
     "data": {
      "image/png": "[encoded data removed]",
      "text/plain": [
       "<Figure size 432x288 with 1 Axes>"
      ]
     },
     "metadata": {
      "needs_background": "light"
     },
     "output_type": "display_data"
    }
   ],
   "source": [
    "x = np.arange(-2, 5, 0.01)\n",
    "\n",
    "plt.plot(x, e(x))\n",
    "plt.plot(x, g(x))"
   ]
  }
 ],
 "metadata": {
  "kernelspec": {
   "display_name": "Python 3 (ipykernel)",
   "language": "python",
   "name": "python3"
  },
  "language_info": {
   "codemirror_mode": {
    "name": "ipython",
    "version": 3
   },
   "file_extension": ".py",
   "mimetype": "text/x-python",
   "name": "python",
   "nbconvert_exporter": "python",
   "pygments_lexer": "ipython3",
   "version": "3.9.7"
  }
 },
 "nbformat": 4,
 "nbformat_minor": 5
}
