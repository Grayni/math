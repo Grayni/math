{
 "cells": [
  {
   "cell_type": "markdown",
   "id": "001f16cd",
   "metadata": {},
   "source": [
    "### Перевод полярных в декартовы координаты\n",
    "\n",
    "$$x = R*cos(\\alpha)$$\n",
    "$$y = R*sin(\\alpha)$$"
   ]
  },
  {
   "cell_type": "code",
   "execution_count": 1,
   "id": "5fedc3ec",
   "metadata": {},
   "outputs": [],
   "source": [
    "%matplotlib inline\n",
    "import matplotlib.pyplot as plt\n",
    "import numpy as np"
   ]
  },
  {
   "cell_type": "code",
   "execution_count": 7,
   "id": "a7bb76e0",
   "metadata": {},
   "outputs": [
    {
     "name": "stdout",
     "output_type": "stream",
     "text": [
      "(3.993177018345971, 3.009075821602636)\n"
     ]
    }
   ],
   "source": [
    "def polar_to_cartesian(a, R):\n",
    "    x = R * np.cos(a)\n",
    "    y = R * np.sin(a)  # R = (x**2 + y**2)**0.5\n",
    "    return x, y\n",
    "\n",
    "print(polar_to_cartesian(0.645772, 5))  # angle(37deg) in radian in triangle 3, 4, 5 R=5 , x=4, y=3"
   ]
  },
  {
   "cell_type": "code",
   "execution_count": null,
   "id": "a2543ca2",
   "metadata": {},
   "outputs": [],
   "source": []
  }
 ],
 "metadata": {
  "kernelspec": {
   "display_name": "Python 3 (ipykernel)",
   "language": "python",
   "name": "python3"
  },
  "language_info": {
   "codemirror_mode": {
    "name": "ipython",
    "version": 3
   },
   "file_extension": ".py",
   "mimetype": "text/x-python",
   "name": "python",
   "nbconvert_exporter": "python",
   "pygments_lexer": "ipython3",
   "version": "3.9.7"
  }
 },
 "nbformat": 4,
 "nbformat_minor": 5
}
