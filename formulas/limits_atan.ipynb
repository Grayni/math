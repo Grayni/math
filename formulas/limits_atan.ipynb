{
 "cells": [
  {
   "cell_type": "markdown",
   "id": "7050158f",
   "metadata": {},
   "source": [
    "Реализуйте функцию $f(x)$:\n",
    "$$f(x) = 2arctg(x)$$\n",
    "\n",
    "\n",
    "Найдите предел функции (ответ округлите до 3 знака после запятой) при $x\\rightarrow +∞$\n",
    "\n",
    "$$\\displaystyle\\lim_{x\\rightarrow+∞}{2arctg(x)}$$"
   ]
  },
  {
   "cell_type": "code",
   "execution_count": 22,
   "id": "3ee7aad5",
   "metadata": {},
   "outputs": [
    {
     "data": {
      "text/plain": [
       "3.142"
      ]
     },
     "execution_count": 22,
     "metadata": {},
     "output_type": "execute_result"
    }
   ],
   "source": [
    "from math import atan\n",
    "\n",
    "def atan_2(x):\n",
    "    return 2 * atan(x)\n",
    "\n",
    "lim = round(atan_2(float('+inf')), 3)\n",
    "\n",
    "lim"
   ]
  }
 ],
 "metadata": {
  "kernelspec": {
   "display_name": "Python 3 (ipykernel)",
   "language": "python",
   "name": "python3"
  },
  "language_info": {
   "codemirror_mode": {
    "name": "ipython",
    "version": 3
   },
   "file_extension": ".py",
   "mimetype": "text/x-python",
   "name": "python",
   "nbconvert_exporter": "python",
   "pygments_lexer": "ipython3",
   "version": "3.9.7"
  }
 },
 "nbformat": 4,
 "nbformat_minor": 5
}
